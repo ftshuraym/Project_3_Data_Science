{
 "cells": [
  {
   "cell_type": "markdown",
   "metadata": {},
   "source": [
    "# Problem statment:\n",
    "## Bahamas consider one of most beautiful islands in caribbean, so i am sharing Tours and tickets page dataset in case anyone is interested  to go one day."
   ]
  },
  {
   "cell_type": "markdown",
   "metadata": {},
   "source": [
    "link: https://www.kaggle.com/faisalalshuraym/tripadvisor-bahamas-tours-and-tickets-note-book"
   ]
  },
  {
   "cell_type": "code",
   "execution_count": 1,
   "metadata": {},
   "outputs": [],
   "source": [
    "import requests\n",
    "import re\n",
    "import pandas as pd\n",
    "from bs4 import BeautifulSoup"
   ]
  },
  {
   "cell_type": "markdown",
   "metadata": {},
   "source": [
    "# Step 1: Download Html page "
   ]
  },
  {
   "cell_type": "code",
   "execution_count": 2,
   "metadata": {},
   "outputs": [],
   "source": [
    "html=[]\n",
    "for i in range(30,480,30):\n",
    "    response_2 = requests.get('https://www.tripadvisor.com/Attraction_Products-g147414-oa%d-a_sort.-Bahamas.html#ATTRACTION_LIST' %i)\n",
    "    html.append(response_2.text)  "
   ]
  },
  {
   "cell_type": "markdown",
   "metadata": {},
   "source": [
    "# Step 2: parsing using beautifulsoup"
   ]
  },
  {
   "cell_type": "code",
   "execution_count": 3,
   "metadata": {},
   "outputs": [],
   "source": [
    "# creating empty lists\n",
    "\n",
    "page_title=[]\n",
    "reviews=[]\n",
    "by=[]\n",
    "des=[]\n",
    "price =[]\n",
    "\n",
    "#creating dictionary for contaning empty lists\n",
    "\n",
    "tours_and_tickets= {\n",
    "    'tours': page_title,\n",
    "    'reviews': reviews,\n",
    "    'company':by,\n",
    "    'describtion':des,\n",
    "    'price':price\n",
    "}\n",
    "\n",
    "# web scarping \n",
    "\n",
    "for i in html:\n",
    "    sou=BeautifulSoup(i,'html.parser')\n",
    "    for k in sou.find_all('div',class_='attraction_clarity_cell'):\n",
    "        \n",
    "        page_title.append(k.find('div', class_='listing_title').text)\n",
    "        des.append(k.find('div', class_='listing_description').text)\n",
    "        price.append(k.find('div', class_='from').text)\n",
    "        \n",
    "        # filling empty cells with 'No review'and 'No company'\n",
    "        try:\n",
    "            k.find('span', class_= 'more')\n",
    "            reviews.append(k.find('span', class_= 'more').text)\n",
    "        except:\n",
    "            reviews.append('No review')\n",
    "            \n",
    "        try:\n",
    "            k.find('div', class_= 'listing_duration')\n",
    "            by.append(k.find('div', class_= 'listing_duration').text)\n",
    "        except:\n",
    "            by.append('No company')\n",
    "            \n",
    "# creating data frame \n",
    "\n",
    "df = pd.DataFrame(tours_and_tickets) "
   ]
  },
  {
   "cell_type": "markdown",
   "metadata": {},
   "source": [
    "# Step 3: Taking out extra information from Data frame \n"
   ]
  },
  {
   "cell_type": "code",
   "execution_count": 4,
   "metadata": {},
   "outputs": [],
   "source": [
    "df['reviews']= df['reviews'].str.replace('reviews','')\n",
    "df['reviews']= df['reviews'].str.replace('review','')\n",
    "df['company']= df['company'].str.replace('By:', '')\n",
    "df['price'] = df['price'].str.replace('from ', '')"
   ]
  },
  {
   "cell_type": "markdown",
   "metadata": {},
   "source": [
    "# Step 4: Saving Data frame to CSV file "
   ]
  },
  {
   "cell_type": "code",
   "execution_count": 5,
   "metadata": {},
   "outputs": [],
   "source": [
    "df.to_csv(\"Bahamas: Tours and Tickets.csv\",index=False)"
   ]
  },
  {
   "cell_type": "code",
   "execution_count": 6,
   "metadata": {},
   "outputs": [
    {
     "data": {
      "text/html": [
       "<div>\n",
       "<style scoped>\n",
       "    .dataframe tbody tr th:only-of-type {\n",
       "        vertical-align: middle;\n",
       "    }\n",
       "\n",
       "    .dataframe tbody tr th {\n",
       "        vertical-align: top;\n",
       "    }\n",
       "\n",
       "    .dataframe thead th {\n",
       "        text-align: right;\n",
       "    }\n",
       "</style>\n",
       "<table border=\"1\" class=\"dataframe\">\n",
       "  <thead>\n",
       "    <tr style=\"text-align: right;\">\n",
       "      <th></th>\n",
       "      <th>tours</th>\n",
       "      <th>reviews</th>\n",
       "      <th>company</th>\n",
       "      <th>describtion</th>\n",
       "      <th>price</th>\n",
       "    </tr>\n",
       "  </thead>\n",
       "  <tbody>\n",
       "    <tr>\n",
       "      <th>0</th>\n",
       "      <td>Discover Atlantis</td>\n",
       "      <td>25</td>\n",
       "      <td>Aquaventure</td>\n",
       "      <td>Visit the Atlantis Paradise Island resort to e...</td>\n",
       "      <td>SAR 165.01</td>\n",
       "    </tr>\n",
       "    <tr>\n",
       "      <th>1</th>\n",
       "      <td>Round trip Airport (LPIA) to Atlantis, Comfort...</td>\n",
       "      <td>No</td>\n",
       "      <td>Rickyluv Bahamas Taxi and Tour</td>\n",
       "      <td>Rickyluv Bahamas Taxi and Tour offers customiz...</td>\n",
       "      <td>SAR 187.51</td>\n",
       "    </tr>\n",
       "    <tr>\n",
       "      <th>2</th>\n",
       "      <td>Shared Airport Transfers</td>\n",
       "      <td>2</td>\n",
       "      <td>Courtesy Private Charters</td>\n",
       "      <td>More than just a ride!  Arrive in Nassau,Baham...</td>\n",
       "      <td>SAR 82.50</td>\n",
       "    </tr>\n",
       "  </tbody>\n",
       "</table>\n",
       "</div>"
      ],
      "text/plain": [
       "                                               tours reviews  \\\n",
       "0                                  Discover Atlantis     25    \n",
       "1  Round trip Airport (LPIA) to Atlantis, Comfort...     No    \n",
       "2                           Shared Airport Transfers      2    \n",
       "\n",
       "                           company  \\\n",
       "0                      Aquaventure   \n",
       "1   Rickyluv Bahamas Taxi and Tour   \n",
       "2        Courtesy Private Charters   \n",
       "\n",
       "                                         describtion        price  \n",
       "0  Visit the Atlantis Paradise Island resort to e...  SAR 165.01   \n",
       "1  Rickyluv Bahamas Taxi and Tour offers customiz...  SAR 187.51   \n",
       "2  More than just a ride!  Arrive in Nassau,Baham...   SAR 82.50   "
      ]
     },
     "execution_count": 6,
     "metadata": {},
     "output_type": "execute_result"
    }
   ],
   "source": [
    "df.head(3)"
   ]
  }
 ],
 "metadata": {
  "kernelspec": {
   "display_name": "Python 3",
   "language": "python",
   "name": "python3"
  },
  "language_info": {
   "codemirror_mode": {
    "name": "ipython",
    "version": 3
   },
   "file_extension": ".py",
   "mimetype": "text/x-python",
   "name": "python",
   "nbconvert_exporter": "python",
   "pygments_lexer": "ipython3",
   "version": "3.7.3"
  }
 },
 "nbformat": 4,
 "nbformat_minor": 2
}
